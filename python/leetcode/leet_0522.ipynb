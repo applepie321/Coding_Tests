{
 "cells": [
  {
   "attachments": {},
   "cell_type": "markdown",
   "metadata": {},
   "source": [
    "### \\#1. Two sum  \n",
    "\n",
    "Given an array of integers nums and an integer target, return indices of the two numbers such that they add up to target.  \n",
    "You may assume that each input would have exactly one solution, and you may not use the same element twice.  \n",
    "You can return the answer in any order.  \n",
    "\n",
    "Example 1:  \n",
    "Input: nums = [2,7,11,15], target = 9  \n",
    "Output: [0,1]  \n",
    "Explanation: Because nums[0] + nums[1] == 9, we return [0, 1].  \n",
    "\n",
    "\n",
    "Example 2:  \n",
    "Input: nums = [3,2,4], target = 6  \n",
    "Output: [1,2]  \n",
    "\n",
    "\n",
    "Example 3:  \n",
    "Input: nums = [3,3], target = 6  \n",
    "Output: [0,1]  "
   ]
  },
  {
   "cell_type": "code",
   "execution_count": null,
   "metadata": {},
   "outputs": [],
   "source": [
    "class Solution:\n",
    "    def twoSum(self, nums: List[int], target: int) -> List[int]:\n",
    "        result = {}\n",
    "        for x, y in enumerate(nums):\n",
    "            z = target - y\n",
    "            if z not in result:\n",
    "                result[y] = x\n",
    "            else:\n",
    "                return [result[z], x]"
   ]
  },
  {
   "attachments": {},
   "cell_type": "markdown",
   "metadata": {},
   "source": [
    "# enumerate, Array, Hash Table"
   ]
  }
 ],
 "metadata": {
  "language_info": {
   "name": "python"
  },
  "orig_nbformat": 4
 },
 "nbformat": 4,
 "nbformat_minor": 2
}
