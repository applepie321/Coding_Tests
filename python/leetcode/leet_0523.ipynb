{
 "cells": [
  {
   "attachments": {},
   "cell_type": "markdown",
   "metadata": {},
   "source": [
    "### \\#703. Kth Largest Element in a Stream  \n",
    "  \n",
    "\n",
    "Design a class to find the kth largest element in a stream. Note that it is the kth largest element in the sorted order, not the kth distinct element.\n",
    "\n",
    "Implement KthLargest class:\n",
    "\n",
    "KthLargest(int k, int[] nums) Initializes the object with the integer k and the stream of integers nums.\n",
    "int add(int val) Appends the integer val to the stream and returns the element representing the kth largest element in the stream.  \n",
    "<br>  \n",
    "<br>\n",
    "<br>\n",
    "Example 1:  \n",
    "\n",
    "Input  \n",
    "[\"KthLargest\", \"add\", \"add\", \"add\", \"add\", \"add\"]  \n",
    "[[3, [4, 5, 8, 2]], [3], [5], [10], [9], [4]]  \n",
    "Output  \n",
    "[null, 4, 5, 5, 8, 8]  \n",
    "\n",
    "Explanation  \n",
    "KthLargest kthLargest = new KthLargest(3, [4, 5, 8, 2]);  \n",
    "kthLargest.add(3);   // return 4  \n",
    "kthLargest.add(5);   // return 5  \n",
    "kthLargest.add(10);  // return 5  \n",
    "kthLargest.add(9);   // return 8  \n",
    "kthLargest.add(4);   // return 8  "
   ]
  },
  {
   "cell_type": "code",
   "execution_count": null,
   "metadata": {},
   "outputs": [],
   "source": [
    "class KthLargest:\n",
    "\n",
    "    def __init__(self, k: int, nums: List[int]):\n",
    "        self.k = k\n",
    "        self.kth = sorted(nums, reverse=True)[:k]\n",
    "        \n",
    "\n",
    "    def add(self, val: int) -> int:\n",
    "        self.kth.append(val)\n",
    "        self.kth = sorted(self.kth, reverse=True)[:self.k]\n",
    "        return self.kth[-1]"
   ]
  },
  {
   "attachments": {},
   "cell_type": "markdown",
   "metadata": {},
   "source": []
  }
 ],
 "metadata": {
  "kernelspec": {
   "display_name": "Python 3",
   "language": "python",
   "name": "python3"
  },
  "language_info": {
   "name": "python",
   "version": "3.10.11"
  },
  "orig_nbformat": 4
 },
 "nbformat": 4,
 "nbformat_minor": 2
}
